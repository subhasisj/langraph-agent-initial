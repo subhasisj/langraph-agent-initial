{
 "cells": [
  {
   "cell_type": "code",
   "execution_count": 35,
   "metadata": {},
   "outputs": [],
   "source": [
    "import sys\n",
    "import os\n",
    "from IPython.display import Image, display\n",
    "from pprint import pprint\n",
    "   \n",
    "# Add the project root directory to Python's module search path\n",
    "project_root = os.path.abspath(os.path.join(os.getcwd(), '..'))\n",
    "sys.path.append(project_root)"
   ]
  },
  {
   "cell_type": "code",
   "execution_count": 2,
   "metadata": {},
   "outputs": [],
   "source": [
    "# import graph\n",
    "from src.models.graph import GraphBuilder, decide_mood, START, END\n",
    "\n",
    "# Usage example:\n",
    "builder = GraphBuilder()\n",
    "\n",
    "# Add nodes\n",
    "builder.add_node(\"node_1\", \"This\")\n",
    "builder.add_node(\"node_2\", \"is\")\n",
    "builder.add_node(\"node_3\", \"really\")\n",
    "builder.add_node(\"node_4\", \"awesome\")\n",
    "builder.add_node(\"node_5\", \"bad\")\n",
    "\n",
    "# Add edges\n",
    "builder.add_edge(START, \"node_1\")\n",
    "builder.add_edge(\"node_1\", \"node_2\")\n",
    "builder.add_edge(\"node_2\", \"node_3\")\n",
    "builder.add_conditional_edge(\"node_3\", decide_mood)\n",
    "builder.add_edge(\"node_4\", END)\n",
    "builder.add_edge(\"node_5\", END)\n",
    "\n",
    "graph = builder.build()"
   ]
  },
  {
   "cell_type": "code",
   "execution_count": 3,
   "metadata": {},
   "outputs": [
    {
     "data": {
      "image/jpeg": "[encoded data removed]",
      "text/plain": [
       "<IPython.core.display.Image object>"
      ]
     },
     "metadata": {},
     "output_type": "display_data"
    }
   ],
   "source": [
    "display(Image(graph.get_graph().draw_mermaid_png()))"
   ]
  },
  {
   "cell_type": "code",
   "execution_count": 5,
   "metadata": {},
   "outputs": [
    {
     "name": "stdout",
     "output_type": "stream",
     "text": [
      "------node_1------\n",
      "------node_2------\n",
      "------node_3------\n",
      "------node_4------\n"
     ]
    },
    {
     "data": {
      "text/plain": [
       "{'graph_state': 'Hi, this is Lance. This is really awesome'}"
      ]
     },
     "execution_count": 5,
     "metadata": {},
     "output_type": "execute_result"
    }
   ],
   "source": [
    "graph.invoke({\"graph_state\" : \"Hi, this is Lance.\"})"
   ]
  },
  {
   "cell_type": "code",
   "execution_count": 13,
   "metadata": {},
   "outputs": [],
   "source": [
    "# get groq provider\n",
    "from src.services.providers import AIProviderType, AIProviderFactory\n",
    "\n",
    "llm = AIProviderFactory.create_provider(AIProviderType.GROQ, \"llama-3.1-8b-instant\")"
   ]
  },
  {
   "cell_type": "code",
   "execution_count": 14,
   "metadata": {},
   "outputs": [
    {
     "name": "stdout",
     "output_type": "stream",
     "text": [
      "A quadrilateral is a two-dimensional shape with four sides. It is a polygon with four vertices (corners) and four edges (sides). The sum of the interior angles of a quadrilateral is always 360 degrees.\n",
      "\n",
      "There are several types of quadrilaterals, including:\n",
      "\n",
      "1. **Rectangle**: A quadrilateral with four right angles (90-degree angles) and opposite sides that are equal in length.\n",
      "2. **Square**: A quadrilateral with four right angles (90-degree angles) and all sides that are equal in length.\n",
      "3. **Rhombus**: A quadrilateral with all sides of equal length and opposite angles that are equal.\n",
      "4. **Trapezoid**: A quadrilateral with two pairs of sides where one pair is parallel.\n",
      "5. **Kite**: A quadrilateral with two pairs of adjacent sides where one pair is equal in length.\n",
      "6. **Parallelogram**: A quadrilateral with opposite sides that are parallel.\n",
      "\n",
      "Quadrilaterals are an important concept in geometry and are used in many real-world applications, such as architecture, engineering, and design.\n"
     ]
    }
   ],
   "source": [
    "result = llm.invoke(\"what is a quadrilateral?\")\n",
    "print(result.content)"
   ]
  },
  {
   "cell_type": "code",
   "execution_count": 12,
   "metadata": {},
   "outputs": [
    {
     "data": {
      "text/plain": [
       "{'token_usage': {'completion_tokens': 296,\n",
       "  'prompt_tokens': 41,\n",
       "  'total_tokens': 337,\n",
       "  'completion_time': 0.394666667,\n",
       "  'prompt_time': 0.008377685,\n",
       "  'queue_time': 0.006048294000000001,\n",
       "  'total_time': 0.403044352},\n",
       " 'model_name': 'llama-3.1-8b-instant',\n",
       " 'system_fingerprint': 'fp_f66ccb39ec',\n",
       " 'finish_reason': 'stop',\n",
       " 'logprobs': None}"
      ]
     },
     "execution_count": 12,
     "metadata": {},
     "output_type": "execute_result"
    }
   ],
   "source": [
    "result.response_metadata"
   ]
  },
  {
   "cell_type": "markdown",
   "metadata": {},
   "source": [
    "## Tools"
   ]
  },
  {
   "cell_type": "code",
   "execution_count": 40,
   "metadata": {},
   "outputs": [],
   "source": [
    "def multiply(a: int, b: int) -> int:\n",
    "    \"\"\"\n",
    "    Multiplies a and b.\n",
    "\n",
    "    Args:\n",
    "        a: first int\n",
    "        b: second int\n",
    "    \"\"\"\n",
    "    return a * b\n",
    "\n",
    "def add(a: int, b: int) -> int:\n",
    "    \"\"\"\n",
    "    Adds a and b.\n",
    "\n",
    "    Args:\n",
    "        a: first int\n",
    "        b: second int\n",
    "    \"\"\"\n",
    "    return a + b\n",
    "\n",
    "def subtract(a: int, b: int) -> int:\n",
    "    \"\"\"\n",
    "    Subtracts b from a.\n",
    "\n",
    "    Args:\n",
    "        a: first int\n",
    "        b: second int\n",
    "    \"\"\"\n",
    "    return a - b\n",
    "\n",
    "llm_with_tools = llm.bind_tools([multiply, add, subtract])"
   ]
  },
  {
   "cell_type": "code",
   "execution_count": 41,
   "metadata": {},
   "outputs": [
    {
     "name": "stdout",
     "output_type": "stream",
     "text": [
      "content='' additional_kwargs={'tool_calls': [{'id': 'call_nzr4', 'function': {'arguments': '{\"a\": 4, \"b\": 1}', 'name': 'subtract'}, 'type': 'function'}]} response_metadata={'token_usage': {'completion_tokens': 19, 'prompt_tokens': 361, 'total_tokens': 380, 'completion_time': 0.025333333, 'prompt_time': 0.073952907, 'queue_time': 0.002323583000000004, 'total_time': 0.09928624}, 'model_name': 'llama-3.1-8b-instant', 'system_fingerprint': 'fp_9cb648b966', 'finish_reason': 'tool_calls', 'logprobs': None} id='run-76669516-f3f7-4876-99e8-9f8ea44c3c6e-0' tool_calls=[{'name': 'subtract', 'args': {'a': 4, 'b': 1}, 'id': 'call_nzr4', 'type': 'tool_call'}] usage_metadata={'input_tokens': 361, 'output_tokens': 19, 'total_tokens': 380}\n"
     ]
    }
   ],
   "source": [
    "from langchain_core.messages import HumanMessage, AIMessage\n",
    "\n",
    "tool_call = llm_with_tools.invoke([HumanMessage(content=\"what is four minus 1?\",name=\"Monty\")])\n",
    "print(tool_call)"
   ]
  },
  {
   "cell_type": "code",
   "execution_count": 42,
   "metadata": {},
   "outputs": [
    {
     "data": {
      "text/plain": [
       "[{'id': 'call_nzr4',\n",
       "  'function': {'arguments': '{\"a\": 4, \"b\": 1}', 'name': 'subtract'},\n",
       "  'type': 'function'}]"
      ]
     },
     "execution_count": 42,
     "metadata": {},
     "output_type": "execute_result"
    }
   ],
   "source": [
    "tool_call.additional_kwargs['tool_calls']\n"
   ]
  },
  {
   "cell_type": "code",
   "execution_count": 43,
   "metadata": {},
   "outputs": [
    {
     "data": {
      "text/plain": [
       "[AIMessage(content='Hi, How can I assist you today?', additional_kwargs={}, response_metadata={}, id='a21086e2-bcdc-49fb-ab07-c232214114ee'),\n",
       " HumanMessage(content='I need help with math', additional_kwargs={}, response_metadata={}, name='Monty', id='8500fdcb-4656-4942-bf8a-850dcde6932e'),\n",
       " AIMessage(content='Sure, I can help you with that. What do you need help with?', additional_kwargs={}, response_metadata={}, name='Model', id='f3c512a1-966b-4769-9a99-c8bdaf533e93')]"
      ]
     },
     "execution_count": 43,
     "metadata": {},
     "output_type": "execute_result"
    }
   ],
   "source": [
    "from langgraph.graph.message import add_messages\n",
    "\n",
    "\n",
    "initial_message = [AIMessage(content=\"Hi, How can I assist you today?\"),\n",
    "                   HumanMessage(content=\"I need help with math\", name=\"Monty\")]\n",
    "\n",
    "new_message = AIMessage(content=\"Sure, I can help you with that. What do you need help with?\",name=\"Model\")\n",
    "add_messages(initial_message, new_message)"
   ]
  },
  {
   "cell_type": "markdown",
   "metadata": {},
   "source": [
    "### Graph with tools calling\n",
    "\n"
   ]
  },
  {
   "cell_type": "code",
   "execution_count": 44,
   "metadata": {},
   "outputs": [
    {
     "data": {
      "image/jpeg": "[encoded data removed]",
      "text/plain": [
       "<IPython.core.display.Image object>"
      ]
     },
     "metadata": {},
     "output_type": "display_data"
    }
   ],
   "source": [
    "from IPython.display import Image, display\n",
    "\n",
    "from langgraph.graph import StateGraph, START, END, MessagesState\n",
    "\n",
    "class MessagesState(MessagesState):\n",
    "    # Add any keys needed beyond messages, which is pre-built \n",
    "    pass\n",
    "\n",
    "# Node for tool calling\n",
    "def tool_calling_llm(state: MessagesState):\n",
    "    return {\"messages\":[llm_with_tools.invoke(state[\"messages\"])]}\n",
    "\n",
    "# Build the graph\n",
    "builder = StateGraph(MessagesState)\n",
    "builder.add_node(\"tool_calling_llm\", tool_calling_llm)\n",
    "builder.add_edge(START, \"tool_calling_llm\")\n",
    "builder.add_edge(\"tool_calling_llm\", END)\n",
    "\n",
    "graph = builder.compile()\n",
    "\n",
    "display(Image(graph.get_graph().draw_mermaid_png()))\n"
   ]
  },
  {
   "cell_type": "code",
   "execution_count": 45,
   "metadata": {},
   "outputs": [
    {
     "name": "stdout",
     "output_type": "stream",
     "text": [
      "================================\u001b[1m Human Message \u001b[0m=================================\n",
      "\n",
      "Hello\n",
      "==================================\u001b[1m Ai Message \u001b[0m==================================\n",
      "\n",
      "I'm happy to chat with you. What would you like to talk about or ask about?\n"
     ]
    }
   ],
   "source": [
    "# Test with Random messages\n",
    "messages = graph.invoke({\"messages\": HumanMessage(content=\"Hello\")})\n",
    "for message in messages[\"messages\"]:\n",
    "    message.pretty_print()  \n"
   ]
  },
  {
   "cell_type": "code",
   "execution_count": 46,
   "metadata": {},
   "outputs": [
    {
     "name": "stdout",
     "output_type": "stream",
     "text": [
      "================================\u001b[1m Human Message \u001b[0m=================================\n",
      "\n",
      "What is 2 - 2?\n",
      "==================================\u001b[1m Ai Message \u001b[0m==================================\n",
      "Tool Calls:\n",
      "  subtract (call_gaph)\n",
      " Call ID: call_gaph\n",
      "  Args:\n",
      "    a: 2\n",
      "    b: 2\n"
     ]
    }
   ],
   "source": [
    "# Test with Math Problem\n",
    "messages = graph.invoke({\"messages\": HumanMessage(content=\"What is 2 - 2?\")})\n",
    "for message in messages[\"messages\"]:\n",
    "    message.pretty_print()  \n",
    "\n",
    "\n"
   ]
  },
  {
   "cell_type": "markdown",
   "metadata": {},
   "source": [
    "### Router"
   ]
  },
  {
   "cell_type": "code",
   "execution_count": 48,
   "metadata": {},
   "outputs": [
    {
     "data": {
      "image/jpeg": "[encoded data removed]",
      "text/plain": [
       "<IPython.core.display.Image object>"
      ]
     },
     "metadata": {},
     "output_type": "display_data"
    }
   ],
   "source": [
    "from langgraph.prebuilt import ToolNode, tools_condition\n",
    "\n",
    "builder = StateGraph(MessagesState)\n",
    "builder.add_node(\"tool_calling_llm\", tool_calling_llm)\n",
    "builder.add_node(\"tools\", ToolNode([multiply, add, subtract]))\n",
    "builder.add_edge(START, \"tool_calling_llm\")\n",
    "builder.add_conditional_edges(\"tool_calling_llm\", tools_condition)\n",
    "builder.add_edge(\"tools\", END)\n",
    "\n",
    "graph = builder.compile()\n",
    "\n",
    "display(Image(graph.get_graph().draw_mermaid_png()))"
   ]
  },
  {
   "cell_type": "code",
   "execution_count": 49,
   "metadata": {},
   "outputs": [
    {
     "name": "stdout",
     "output_type": "stream",
     "text": [
      "================================\u001b[1m Human Message \u001b[0m=================================\n",
      "\n",
      "Hello\n",
      "==================================\u001b[1m Ai Message \u001b[0m==================================\n",
      "\n",
      "I'm happy to chat with you. What would you like to talk about or is there something specific you need help with?\n"
     ]
    }
   ],
   "source": [
    "# Test with Random messages\n",
    "messages = graph.invoke({\"messages\": HumanMessage(content=\"Hello\")})\n",
    "for message in messages[\"messages\"]:\n",
    "    message.pretty_print()  "
   ]
  },
  {
   "cell_type": "code",
   "execution_count": 55,
   "metadata": {},
   "outputs": [
    {
     "name": "stdout",
     "output_type": "stream",
     "text": [
      "================================\u001b[1m Human Message \u001b[0m=================================\n",
      "\n",
      "What is 5 plus 2?\n",
      "==================================\u001b[1m Ai Message \u001b[0m==================================\n",
      "Tool Calls:\n",
      "  add (call_7k6m)\n",
      " Call ID: call_7k6m\n",
      "  Args:\n",
      "    a: 5\n",
      "    b: 2\n",
      "=================================\u001b[1m Tool Message \u001b[0m=================================\n",
      "Name: add\n",
      "\n",
      "7\n"
     ]
    }
   ],
   "source": [
    "# Test with Math Problem\n",
    "messages = graph.invoke({\"messages\": HumanMessage(content=\"What is 5 plus 2?\")})\n",
    "for message in messages[\"messages\"]:\n",
    "    message.pretty_print()  \n"
   ]
  },
  {
   "cell_type": "code",
   "execution_count": null,
   "metadata": {},
   "outputs": [],
   "source": []
  }
 ],
 "metadata": {
  "kernelspec": {
   "display_name": ".venv",
   "language": "python",
   "name": "python3"
  },
  "language_info": {
   "codemirror_mode": {
    "name": "ipython",
    "version": 3
   },
   "file_extension": ".py",
   "mimetype": "text/x-python",
   "name": "python",
   "nbconvert_exporter": "python",
   "pygments_lexer": "ipython3",
   "version": "3.10.14"
  }
 },
 "nbformat": 4,
 "nbformat_minor": 2
}
